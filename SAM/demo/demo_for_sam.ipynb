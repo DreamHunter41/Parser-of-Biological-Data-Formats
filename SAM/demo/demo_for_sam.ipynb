{
 "cells": [
  {
   "attachments": {},
   "cell_type": "markdown",
   "metadata": {},
   "source": [
    "读取SAM文件中每一条read的比对位置（包含染色体编号和位置信息），比对质量值和插入片段长度输出，可以这样做："
   ]
  },
  {
   "cell_type": "code",
   "execution_count": null,
   "metadata": {},
   "outputs": [],
   "source": [
    "import pysam\n",
    "bf = pysam.AlignmentFile('ex10.sam', 'r')\n",
    "for r in bf:\n",
    "  print r.reference_name, r.pos, r.mapq, r.isize"
   ]
  },
  {
   "attachments": {},
   "cell_type": "markdown",
   "metadata": {},
   "source": [
    "读取SAM文件中特定区域的信息，比如与chr2第80-120位比对的结果，可以使用fetch函数："
   ]
  },
  {
   "cell_type": "code",
   "execution_count": null,
   "metadata": {},
   "outputs": [],
   "source": [
    "import pysam\n",
    "bf = AlignmentFile('ex3.sam', 'r')\n",
    "for r in bf.fetch('chr2', 80, 120):\n",
    "  print r\n",
    "bf.close()"
   ]
  },
  {
   "attachments": {},
   "cell_type": "markdown",
   "metadata": {},
   "source": [
    "当要求更高，比如说要输出覆盖了特定位置，且比对质量大于20的所有reads，可以使用Alignment模块的pileups函数来解决："
   ]
  },
  {
   "cell_type": "code",
   "execution_count": null,
   "metadata": {},
   "outputs": [],
   "source": [
    "import pysam\n",
    "bf = pysam.AlignmentFile(\"ex3.sam\", \"r\" )\n",
    "for pileupcolumn in bf.pileup(\"chr2\", 80, 81):\n",
    "    for read in [al for al in pileupcolumn.pileups if al.alignment.mapq>20]:\n",
    "        if not read.is_del and not read.is_refskip:\n",
    "         \tif read.alignment.pos + 1 == 81:\n",
    "                print read.alignment.reference_name,\\\n",
    "                      read.alignment.pos + 1,\\\n",
    "                    read.alignment.query_sequence[read.query_position]\n",
    "\n",
    "bf.close()"
   ]
  },
  {
   "attachments": {},
   "cell_type": "markdown",
   "metadata": {},
   "source": [
    "最后，关于如何使用pysam包在已有的完整信息的基础上生成sam文件，具体做法如下："
   ]
  },
  {
   "cell_type": "code",
   "execution_count": null,
   "metadata": {},
   "outputs": [],
   "source": [
    "rt pysam\n",
    "\n",
    "header = {'HD': {'VN': '1.0'},\n",
    "          'SQ': [{'LN': 1575, 'SN': 'chr1'},\n",
    "                 {'LN': 1584, 'SN': 'chr2'}]\n",
    "}\n",
    "tmpfilename = \"out.sam\"\n",
    "with pysam.AlignmentFile(tmpfilename, \"wb\", header=header) as outf:\n",
    "    a = pysam.AlignedSegment()  # 定义一个AlignedSegment对象用于存储比对信息\n",
    "    a.query_name = \"read_28833_29006_6945\"\n",
    "    a.query_sequence=\"AGCTTAGCTAGCTACCTATATCTTGGTCTTGGCCG\"\n",
    "    a.flag = 99\n",
    "    a.reference_id = 0\n",
    "    a.reference_start = 32\n",
    "    a.mapping_quality = 20\n",
    "    a.cigar = ((0,10), (2,1), (0,25))\n",
    "    a.next_reference_id = 0\n",
    "    a.next_reference_start=199\n",
    "    a.template_length=167\n",
    "    a.query_qualities = pysam.qualitystring_to_array(\"<<<<<<<<<<<<<<<<<<<<<:<9/,&,22;;<<<\")\n",
    "    a.tags = ((\"NM\", 1),\n",
    "              (\"RG\", \"L1\"))\n",
    "    outf.write(a)"
   ]
  }
 ],
 "metadata": {
  "kernelspec": {
   "display_name": "base",
   "language": "python",
   "name": "python3"
  },
  "language_info": {
   "name": "python",
   "version": "3.9.13"
  },
  "orig_nbformat": 4
 },
 "nbformat": 4,
 "nbformat_minor": 2
}
